{
 "cells": [
  {
   "cell_type": "code",
   "execution_count": 928,
   "id": "61040340",
   "metadata": {},
   "outputs": [],
   "source": [
    "## L SHAPED METHOD Q1 and Q2"
   ]
  },
  {
   "cell_type": "code",
   "execution_count": 929,
   "id": "aa7adaf7",
   "metadata": {},
   "outputs": [],
   "source": [
    "import gurobipy as gp\n",
    "from gurobipy import GRB\n",
    "from gurobipy import quicksum as qsum\n",
    "from itertools import product\n",
    "import pandas as pd\n",
    "from pandas import DataFrame\n",
    "import numpy as np"
   ]
  },
  {
   "cell_type": "code",
   "execution_count": 930,
   "id": "342111b0",
   "metadata": {},
   "outputs": [],
   "source": [
    "originalCapacity = [20, 22, 17, 19, 18] # Plant capacity in thousands of units\n",
    "capacityMultiplier = 2.5\n",
    "capacity = capacityMultiplier*np.array(originalCapacity)"
   ]
  },
  {
   "cell_type": "code",
   "execution_count": 931,
   "id": "646e19db",
   "metadata": {},
   "outputs": [],
   "source": [
    "# Warehouse demand in thousands of units\n",
    "demand = [15, 18, 14, 20]\n",
    "\n",
    "# Fixed costs for each plant\n",
    "fixedCosts = [12000, 15000, 17000, 13000, 16000]\n",
    "\n",
    "# Transportation costs per thousand units\n",
    "transCosts = [[4000, 2000, 3000, 2500, 4500],\n",
    "              [2500, 2600, 3400, 3000, 4000],\n",
    "              [1200, 1800, 2600, 4100, 3000],\n",
    "              [2200, 2600, 3100, 3700, 3200]]\n",
    "\n",
    "maxTransCost = max([max(i) for i in transCosts])\n",
    "emergencyTransportMultiplier = 3\n",
    "emergencyTransportCost = emergencyTransportMultiplier*maxTransCost"
   ]
  },
  {
   "cell_type": "code",
   "execution_count": 932,
   "id": "e6a2800d",
   "metadata": {},
   "outputs": [],
   "source": [
    "plants = range(len(capacity))\n",
    "warehouses = range(len(demand))"
   ]
  },
  {
   "cell_type": "code",
   "execution_count": 933,
   "id": "32c2710b",
   "metadata": {},
   "outputs": [],
   "source": [
    "facStatusCombs = list(product([0,1], repeat=len(plants)))\n",
    "xi = {i : facStatusCombs[i] \n",
    "      for i in range(len(facStatusCombs))}\n",
    "scenarios = list(xi.keys())\n",
    "\n",
    "probFacilityFailure = 0.1\n",
    "\n",
    "def getProbOfCombin(combination):\n",
    "    prod = 1\n",
    "    for i in range(len(combination)):\n",
    "        if combination[i] == 0:\n",
    "            prod *= probFacilityFailure\n",
    "        elif combination[i] == 1:\n",
    "            prod *= 1 - probFacilityFailure\n",
    "    return prod\n",
    "\n",
    "probOfScenario = {i : getProbOfCombin(facStatusCombs[i] ) \n",
    "      for i in range(len(facStatusCombs))}"
   ]
  },
  {
   "cell_type": "code",
   "execution_count": 934,
   "id": "97ade81e",
   "metadata": {},
   "outputs": [],
   "source": [
    "def SecondStageFunction(x,xi):\n",
    "    m1 = gp.Model('Second_Stage')\n",
    "    y = m1.addVars(warehouses, plants, \n",
    "                      name=\"transportation\")\n",
    "\n",
    "    e = m1.addVars(warehouses, \n",
    "                      name=\"excessTransportation\")\n",
    "    capacity_constraints = m1.addConstrs(\n",
    "    (y.sum('*', p) <= capacity[p] * xi[p] * x[p] for p in plants),\n",
    "    name=\"Capacity\"\n",
    "    )\n",
    "\n",
    "    demand_constraints = m1.addConstrs(\n",
    "        (y.sum(w, '*') + e[w] == demand[w] for w in warehouses),\n",
    "        name=\"Demand\")\n",
    "    dual_values_capacity = {}\n",
    "    dual_values_demand = {}\n",
    "    m1.setObjective((qsum(transCosts[w][p]*y[w,p] \n",
    "                                        for p in plants \n",
    "                                        for w in warehouses) \n",
    "                    + qsum(emergencyTransportCost*e[w] \n",
    "                           for w in warehouses)), GRB.MINIMIZE)\n",
    "    \n",
    "    m1.Params.LogToConsole = 0\n",
    "    m1.optimize()\n",
    "    \n",
    "    dual_values_capacity = {}\n",
    "    rhs_values_capacity = {}\n",
    "    \n",
    "    dual_values_demand = {}\n",
    "    rhs_values_demand = {}\n",
    "    \n",
    "    for p in plants:\n",
    "        constrName = f\"Capacity[{p}]\"\n",
    "        dual_values_capacity[p] = m1.getConstrByName(constrName).Pi\n",
    "        #rhs_values_capacity[p] = constraint.rhs\n",
    "\n",
    "    for w in warehouses:\n",
    "        constrName = f\"Demand[{w}]\"\n",
    "        dual_values_demand[w] = m1.getConstrByName(constrName).Pi\n",
    "        #rhs_values_demand[p] = constraint.rhs\n",
    "    duals = {0: dual_values_capacity, 1:  dual_values_demand}\n",
    "    \n",
    "    return m1.ObjVal, duals #_values_capacity, dual_values_demand#, rhs_values_capacity, rhs_values_demand"
   ]
  },
  {
   "cell_type": "code",
   "execution_count": 935,
   "id": "92bd52b6",
   "metadata": {},
   "outputs": [],
   "source": [
    "#xSoln = {name : x[name].x for name in x}\n",
    "def getExpectedSecondStageObjective(a,xi):\n",
    "    expectedObjVal = sum(probOfScenario[s]*secondstageFunction(a,xi[s])[0] for s in scenarios)\n",
    "    return expectedObjVal"
   ]
  },
  {
   "cell_type": "code",
   "execution_count": 936,
   "id": "b133548c",
   "metadata": {},
   "outputs": [],
   "source": [
    "def getInterceptAndSlopesForScenario(duals,s):\n",
    "    rhs_p = {}\n",
    "    rhs_w = {}\n",
    "    \n",
    "    T_p = {}\n",
    "    T_w = {}\n",
    "    \n",
    "    slope_p = {}\n",
    "    slope_w = {}\n",
    "    \n",
    "    for p in plants:\n",
    "        rhs_p[p] = 0 #- originalCapacity[p]*xi[s][p]\n",
    "        T_p[p] = - capacity[p]*xi[s][p]\n",
    "            \n",
    "    for w in warehouses:\n",
    "        rhs_w[w] = demand[w]\n",
    "        T_w[w] = 0\n",
    "    #duals_p = secondstageFunction(x,xi[s])[1]\n",
    "    #duals_w = secondstageFunction(x,xi[s])[2]\n",
    "    #rhs_p = secondstageFunction()[3]\n",
    "    #rhs_w = secondstageFunction()[4]\n",
    "    for p in plants:\n",
    "        slope_p[p] = duals[0][p]*T_p[p]\n",
    "    for w in warehouses:\n",
    "        slope_w[w] = duals[1][w]*T_w[w]\n",
    "        \n",
    "    i1 = sum(duals[0][p]*rhs_p[p]\n",
    "                         for p in plants)                    \n",
    "    i2 = sum(duals[1][w]*rhs_w[w]\n",
    "                         for w in warehouses)\n",
    "    interceptValue = i1 + i2\n",
    "    #slopes = {0: slope_p, 1: slope_w}\n",
    "    return interceptValue, slope_p, slope_w\n",
    "    "
   ]
  },
  {
   "cell_type": "code",
   "execution_count": 937,
   "id": "4862c194",
   "metadata": {},
   "outputs": [],
   "source": [
    "def getInterceptsAndSlopesLists(scenarios, dualsForScenarios):\n",
    "    intsAndSlopesForScenarios = {s: (intercept, slope) for s in scenarios for intercept, slope, _ in [getInterceptAndSlopesForScenario(dualMult[s], s)]}\n",
    "\n",
    "    \n",
    "    intercepts = {s: round(intsAndSlopesForScenarios[s][0]) for s in scenarios}\n",
    "    slopesLists = {s: [round(intsAndSlopesForScenarios[s][1][i]) for i in intsAndSlopesForScenarios[s][1]] for s in scenarios}\n",
    "    \n",
    "    # Create a DataFrame for visualization\n",
    "    df = DataFrame.from_dict({s: {'Intercept': intercepts[s], 'Slopes': slopesLists[s]} for s in scenarios}, orient='index')\n",
    "    #print(df)\n",
    "    \n",
    "    return intercepts, slopesLists"
   ]
  },
  {
   "cell_type": "code",
   "execution_count": 938,
   "id": "c008b72b",
   "metadata": {},
   "outputs": [],
   "source": [
    "def addCut(intercepts, slopes):\n",
    "    expectedSlopes = {}\n",
    "    expectedIntercept = sum(probOfScenario[s]*intercepts[s] for s in scenarios)\n",
    "    for p in plants:\n",
    "        expectedSlopes[p] = sum(probOfScenario[s]*slopes[s][p] for s in scenarios) \n",
    "    cut = m.addConstr(theta >= expectedIntercept - qsum(x[p]*expectedSlopes[p] for p in plants) \n",
    "                    ,\"BendersCut\")\n",
    "    print(\"Cut added:\", theta >= expectedIntercept - x.prod(expectedSlopes))\n",
    "\n",
    "#addCut(intercepts, slopes)"
   ]
  },
  {
   "cell_type": "code",
   "execution_count": null,
   "id": "376035b7",
   "metadata": {},
   "outputs": [],
   "source": []
  },
  {
   "cell_type": "code",
   "execution_count": 939,
   "id": "05a9dc15",
   "metadata": {},
   "outputs": [],
   "source": [
    "m = gp.Model(\"FacilityLocation\")\n",
    "\n",
    "x = m.addVars(plants,\n",
    "                 vtype=GRB.BINARY,\n",
    "                 name=\"x\")\n",
    "theta = m.addVar(name = \"theta\", lb = 0)\n",
    "m.setObjective(x.prod(fixedCosts) + theta, GRB.MINIMIZE)\n",
    "m.Params.LogToConsole = 0 \n",
    "m.optimize()\n"
   ]
  },
  {
   "cell_type": "code",
   "execution_count": 940,
   "id": "d1a2a67c",
   "metadata": {},
   "outputs": [
    {
     "name": "stdout",
     "output_type": "stream",
     "text": [
      "{0: 1.0, 1: 1.0, 2: -0.0, 3: 1.0, 4: -0.0}\n",
      "0.0\n"
     ]
    }
   ],
   "source": [
    "print(xSoln)\n",
    "#theta = {theta.}\n",
    "theta_val = theta.X\n",
    "print(theta_val)"
   ]
  },
  {
   "cell_type": "code",
   "execution_count": 941,
   "id": "06abe048",
   "metadata": {},
   "outputs": [
    {
     "name": "stdout",
     "output_type": "stream",
     "text": [
      "0.0\n"
     ]
    }
   ],
   "source": [
    "print(m.Objval)"
   ]
  },
  {
   "cell_type": "code",
   "execution_count": null,
   "id": "9fa7f351",
   "metadata": {},
   "outputs": [],
   "source": [
    "\n",
    "\n",
    "\n"
   ]
  },
  {
   "cell_type": "code",
   "execution_count": 942,
   "id": "522fe356",
   "metadata": {},
   "outputs": [
    {
     "name": "stdout",
     "output_type": "stream",
     "text": [
      "Cut: 1\n",
      "Cut added: <gurobi.TempConstr: <gurobi.LinExpr: theta> >= <gurobi.LinExpr: 904500.0000000002 + -553500.0000000001 x[0] + -579150.0000000001 x[1] + -416925.0000000001 x[2] + -470250.0000000001 x[3] + -425250.0000000001 x[4]>>\n",
      " \n",
      "Cut: 2\n",
      "Cut added: <gurobi.TempConstr: <gurobi.LinExpr: theta> >= <gurobi.LinExpr: 304056.0000000001 + -69750.0 x[0] + -129195.00000000003 x[1] + -77838.75000000001 x[2] + -41895.000000000015 x[3] + -78975.0 x[4]>>\n",
      " \n",
      "Cut: 3\n",
      "Cut added: <gurobi.TempConstr: <gurobi.LinExpr: theta> >= <gurobi.LinExpr: 150817.95000000004 + -6975.000000000002 x[0] + -2588.8500000000004 x[1] + -2117.520000000001 x[2] + -418.95000000000016 x[3] + -384.75000000000017 x[4]>>\n",
      " \n",
      "Cut: 4\n",
      "Cut added: <gurobi.TempConstr: <gurobi.LinExpr: theta> >= <gurobi.LinExpr: 282069.0000000001 + -53550.000000000015 x[0] + -53955.00000000001 x[1] + -76117.50000000003 x[2] + -87423.75000000003 x[3] + -78246.00000000003 x[4]>>\n",
      " \n",
      "Cut: 5\n",
      "Cut added: <gurobi.TempConstr: <gurobi.LinExpr: theta> >= <gurobi.LinExpr: 313731.00000000006 + -138375.00000000003 x[0] + -71775.0 x[1] + -77494.50000000001 x[2] + -41895.000000000015 x[3] + -80068.5 x[4]>>\n",
      " \n",
      "Cut: 6\n",
      "Cut added: <gurobi.TempConstr: <gurobi.LinExpr: theta> >= <gurobi.LinExpr: 167219.10000000003 + -11025.000000000004 x[0] + -7177.500000000001 x[1] + -11364.075000000003 x[2] + -4189.500000000002 x[3] + -11651.850000000002 x[4]>>\n",
      " \n",
      "Cut: 7\n",
      "Cut added: <gurobi.TempConstr: <gurobi.LinExpr: theta> >= <gurobi.LinExpr: 170253.00000000003 + -12645.000000000002 x[0] + -7623.000000000002 x[1] + -3978.000000000002 x[2] + -15013.800000000005 x[3] + -11578.950000000003 x[4]>>\n",
      " \n",
      "Cut: 8\n",
      "Cut added: <gurobi.TempConstr: <gurobi.LinExpr: theta> >= <gurobi.LinExpr: 193276.80000000005 + -28845.000000000007 x[0] + -43258.05000000001 x[1] + -3978.000000000001 x[2] + -4189.500000000001 x[3] + -11651.850000000002 x[4]>>\n",
      " \n",
      "Cut: 9\n",
      "Cut added: <gurobi.TempConstr: <gurobi.LinExpr: theta> >= <gurobi.LinExpr: 349470.0000000001 + -90000.00000000003 x[0] + -208494.00000000006 x[1] + -122935.50000000003 x[2] + -158602.50000000006 x[3] + -38475.00000000001 x[4]>>\n",
      " \n",
      "Cut: 10\n",
      "Cut added: <gurobi.TempConstr: <gurobi.LinExpr: theta> >= <gurobi.LinExpr: 172845.90000000002 + -13050.000000000004 x[0] + -8068.500000000002 x[1] + -16183.575000000003 x[2] + -20592.675000000007 x[3] + -3847.500000000002 x[4]>>\n",
      " \n",
      "Cut: 11\n",
      "Cut added: <gurobi.TempConstr: <gurobi.LinExpr: theta> >= <gurobi.LinExpr: 167219.10000000003 + -11025.000000000004 x[0] + -7177.500000000001 x[1] + -11364.075000000003 x[2] + -4189.500000000002 x[3] + -11651.850000000002 x[4]>>\n",
      " \n"
     ]
    }
   ],
   "source": [
    "A = 0\n",
    "LB = 0\n",
    "UB = 100000000000000000000\n",
    "while (UB - LB) >= 0.01:\n",
    "    dualMult = {}\n",
    "    total_second_stage_cost = 0\n",
    "    D = {}\n",
    "    m.Params.LogToConsole = 0 \n",
    "    m.optimize()\n",
    "    xSoln = {name : x[name].x for name in x}\n",
    "    theta_val = theta.X\n",
    "    LB = theta_val\n",
    "    \n",
    "    for s in scenarios:\n",
    "        second, dualMult[s] = SecondStageFunction(xSoln,xi[s])\n",
    "        total_second_stage_cost += probOfScenario[s]*second\n",
    "        D[s] = getInterceptAndSlopesForScenario(dualMult[s],s)\n",
    "    \n",
    "    #result = [fixedCosts[i]*xsoln[i] for i in range(len(fixedCosts))]\n",
    "    #H = sum(result)\n",
    "    UB = total_second_stage_cost\n",
    "    #print(UB)\n",
    "    i,s = getInterceptsAndSlopesLists(scenarios, D)\n",
    "    A += 1\n",
    "    print(f'Cut: {A}')\n",
    "    cut = addCut(i,s) \n",
    "    print(' ')\n"
   ]
  },
  {
   "cell_type": "code",
   "execution_count": 943,
   "id": "6b3e8796",
   "metadata": {},
   "outputs": [
    {
     "name": "stdout",
     "output_type": "stream",
     "text": [
      "11\n"
     ]
    }
   ],
   "source": [
    "print(A)"
   ]
  },
  {
   "cell_type": "code",
   "execution_count": 944,
   "id": "f1417d99",
   "metadata": {},
   "outputs": [
    {
     "name": "stdout",
     "output_type": "stream",
     "text": [
      "184827.10000000003\n"
     ]
    }
   ],
   "source": [
    "print(m.Objval)"
   ]
  },
  {
   "cell_type": "code",
   "execution_count": 945,
   "id": "d894bde2",
   "metadata": {},
   "outputs": [
    {
     "name": "stdout",
     "output_type": "stream",
     "text": [
      "{0: 1.0, 1: 1.0, 2: -0.0, 3: 1.0, 4: -0.0}\n"
     ]
    }
   ],
   "source": [
    "print(xSoln)"
   ]
  },
  {
   "cell_type": "code",
   "execution_count": 946,
   "id": "d5297ed4",
   "metadata": {},
   "outputs": [
    {
     "name": "stdout",
     "output_type": "stream",
     "text": [
      "144827.10000000003\n"
     ]
    }
   ],
   "source": [
    "print(theta_val)"
   ]
  },
  {
   "cell_type": "code",
   "execution_count": null,
   "id": "96a6786a",
   "metadata": {},
   "outputs": [],
   "source": []
  },
  {
   "cell_type": "code",
   "execution_count": null,
   "id": "1240747f",
   "metadata": {},
   "outputs": [],
   "source": []
  },
  {
   "cell_type": "code",
   "execution_count": 947,
   "id": "091f92ca",
   "metadata": {},
   "outputs": [],
   "source": [
    "m2 = gp.Model(\"FacilityLocation\")\n",
    "\n",
    "x1 = m2.addVars(plants,\n",
    "                 vtype=GRB.BINARY,\n",
    "                 name=\"open\")\n",
    "theta1 = m2.addVars(scenarios, name = \"theta\", lb = 0)\n",
    "m2.setObjective((x1.prod(fixedCosts)) + qsum(probOfScenario[s]*theta1[s] for s in scenarios), GRB.MINIMIZE)\n",
    "m2.Params.LogToConsole = 0 \n",
    "m2.optimize()"
   ]
  },
  {
   "cell_type": "code",
   "execution_count": 948,
   "id": "36369188",
   "metadata": {},
   "outputs": [
    {
     "name": "stdout",
     "output_type": "stream",
     "text": [
      "{0: -0.0, 1: -0.0, 2: -0.0, 3: -0.0, 4: -0.0}\n",
      "0.0\n"
     ]
    }
   ],
   "source": [
    "xSol = {name : x1[name].x for name in x}\n",
    "print(xSol)\n",
    "#theta = {theta.}\n",
    "theta_va = qsum(probOfScenario[s] * theta1[s].X for s in scenarios).getValue()\n",
    "print(theta_va)"
   ]
  },
  {
   "cell_type": "code",
   "execution_count": 949,
   "id": "17853e57",
   "metadata": {},
   "outputs": [],
   "source": [
    "def Cut(intercepts, slopes,s):\n",
    "    Slopes = {}\n",
    "    Intercept = intercepts\n",
    "    for p in plants:\n",
    "        Slopes[p] = slopes[p] \n",
    "    cut = m2.addConstr(theta1[s] >= Intercept - qsum(x1[p]*Slopes[p] for p in plants) \n",
    "                    ,\"BendersCut\")\n",
    "    cut_expr = \" + \".join(f\"{Slopes[p]}*x1[{p}]\" for p in plants)\n",
    "    print(f\"Cut added for scenario {s}: theta1[{s}] >= {Intercept} - ({cut_expr})\")"
   ]
  },
  {
   "cell_type": "code",
   "execution_count": null,
   "id": "c20d2eda",
   "metadata": {},
   "outputs": [],
   "source": []
  },
  {
   "cell_type": "code",
   "execution_count": null,
   "id": "984ddb6a",
   "metadata": {},
   "outputs": [],
   "source": []
  },
  {
   "cell_type": "code",
   "execution_count": 950,
   "id": "913673b2",
   "metadata": {},
   "outputs": [
    {
     "name": "stdout",
     "output_type": "stream",
     "text": [
      "Cut in Iteration: 1\n",
      "Cut added for scenario 0: theta1[0] >= 904500.0 - (0.0*x1[0] + 0.0*x1[1] + 0.0*x1[2] + 0.0*x1[3] + 0.0*x1[4])\n",
      "Cut in Iteration: 1\n",
      "Cut added for scenario 1: theta1[1] >= 904500.0 - (0.0*x1[0] + 0.0*x1[1] + 0.0*x1[2] + 0.0*x1[3] + 472500.0*x1[4])\n",
      "Cut in Iteration: 1\n",
      "Cut added for scenario 2: theta1[2] >= 904500.0 - (0.0*x1[0] + 0.0*x1[1] + 0.0*x1[2] + 522500.0*x1[3] + 0.0*x1[4])\n",
      "Cut in Iteration: 1\n",
      "Cut added for scenario 3: theta1[3] >= 904500.0 - (0.0*x1[0] + 0.0*x1[1] + 0.0*x1[2] + 522500.0*x1[3] + 472500.0*x1[4])\n",
      "Cut in Iteration: 1\n",
      "Cut added for scenario 4: theta1[4] >= 904500.0 - (0.0*x1[0] + 0.0*x1[1] + 463250.0*x1[2] + 0.0*x1[3] + 0.0*x1[4])\n",
      "Cut in Iteration: 1\n",
      "Cut added for scenario 5: theta1[5] >= 904500.0 - (0.0*x1[0] + 0.0*x1[1] + 463250.0*x1[2] + 0.0*x1[3] + 472500.0*x1[4])\n",
      "Cut in Iteration: 1\n",
      "Cut added for scenario 6: theta1[6] >= 904500.0 - (0.0*x1[0] + 0.0*x1[1] + 463250.0*x1[2] + 522500.0*x1[3] + 0.0*x1[4])\n",
      "Cut in Iteration: 1\n",
      "Cut added for scenario 7: theta1[7] >= 904500.0 - (0.0*x1[0] + 0.0*x1[1] + 463250.0*x1[2] + 522500.0*x1[3] + 472500.0*x1[4])\n",
      "Cut in Iteration: 1\n",
      "Cut added for scenario 8: theta1[8] >= 904500.0 - (0.0*x1[0] + 643500.0*x1[1] + 0.0*x1[2] + 0.0*x1[3] + 0.0*x1[4])\n",
      "Cut in Iteration: 1\n",
      "Cut added for scenario 9: theta1[9] >= 904500.0 - (0.0*x1[0] + 643500.0*x1[1] + 0.0*x1[2] + 0.0*x1[3] + 472500.0*x1[4])\n",
      "Cut in Iteration: 1\n",
      "Cut added for scenario 10: theta1[10] >= 904500.0 - (0.0*x1[0] + 643500.0*x1[1] + 0.0*x1[2] + 522500.0*x1[3] + 0.0*x1[4])\n",
      "Cut in Iteration: 1\n",
      "Cut added for scenario 11: theta1[11] >= 904500.0 - (0.0*x1[0] + 643500.0*x1[1] + 0.0*x1[2] + 522500.0*x1[3] + 472500.0*x1[4])\n",
      "Cut in Iteration: 1\n",
      "Cut added for scenario 12: theta1[12] >= 904500.0 - (0.0*x1[0] + 643500.0*x1[1] + 463250.0*x1[2] + 0.0*x1[3] + 0.0*x1[4])\n",
      "Cut in Iteration: 1\n",
      "Cut added for scenario 13: theta1[13] >= 904500.0 - (0.0*x1[0] + 643500.0*x1[1] + 463250.0*x1[2] + 0.0*x1[3] + 472500.0*x1[4])\n",
      "Cut in Iteration: 1\n",
      "Cut added for scenario 14: theta1[14] >= 904500.0 - (0.0*x1[0] + 643500.0*x1[1] + 463250.0*x1[2] + 522500.0*x1[3] + 0.0*x1[4])\n",
      "Cut in Iteration: 1\n",
      "Cut added for scenario 15: theta1[15] >= 904500.0 - (0.0*x1[0] + 643500.0*x1[1] + 463250.0*x1[2] + 522500.0*x1[3] + 472500.0*x1[4])\n",
      "Cut in Iteration: 1\n",
      "Cut added for scenario 16: theta1[16] >= 904500.0 - (615000.0*x1[0] + 0.0*x1[1] + 0.0*x1[2] + 0.0*x1[3] + 0.0*x1[4])\n",
      "Cut in Iteration: 1\n",
      "Cut added for scenario 17: theta1[17] >= 904500.0 - (615000.0*x1[0] + 0.0*x1[1] + 0.0*x1[2] + 0.0*x1[3] + 472500.0*x1[4])\n",
      "Cut in Iteration: 1\n",
      "Cut added for scenario 18: theta1[18] >= 904500.0 - (615000.0*x1[0] + 0.0*x1[1] + 0.0*x1[2] + 522500.0*x1[3] + 0.0*x1[4])\n",
      "Cut in Iteration: 1\n",
      "Cut added for scenario 19: theta1[19] >= 904500.0 - (615000.0*x1[0] + 0.0*x1[1] + 0.0*x1[2] + 522500.0*x1[3] + 472500.0*x1[4])\n",
      "Cut in Iteration: 1\n",
      "Cut added for scenario 20: theta1[20] >= 904500.0 - (615000.0*x1[0] + 0.0*x1[1] + 463250.0*x1[2] + 0.0*x1[3] + 0.0*x1[4])\n",
      "Cut in Iteration: 1\n",
      "Cut added for scenario 21: theta1[21] >= 904500.0 - (615000.0*x1[0] + 0.0*x1[1] + 463250.0*x1[2] + 0.0*x1[3] + 472500.0*x1[4])\n",
      "Cut in Iteration: 1\n",
      "Cut added for scenario 22: theta1[22] >= 904500.0 - (615000.0*x1[0] + 0.0*x1[1] + 463250.0*x1[2] + 522500.0*x1[3] + 0.0*x1[4])\n",
      "Cut in Iteration: 1\n",
      "Cut added for scenario 23: theta1[23] >= 904500.0 - (615000.0*x1[0] + 0.0*x1[1] + 463250.0*x1[2] + 522500.0*x1[3] + 472500.0*x1[4])\n",
      "Cut in Iteration: 1\n",
      "Cut added for scenario 24: theta1[24] >= 904500.0 - (615000.0*x1[0] + 643500.0*x1[1] + 0.0*x1[2] + 0.0*x1[3] + 0.0*x1[4])\n",
      "Cut in Iteration: 1\n",
      "Cut added for scenario 25: theta1[25] >= 904500.0 - (615000.0*x1[0] + 643500.0*x1[1] + 0.0*x1[2] + 0.0*x1[3] + 472500.0*x1[4])\n",
      "Cut in Iteration: 1\n",
      "Cut added for scenario 26: theta1[26] >= 904500.0 - (615000.0*x1[0] + 643500.0*x1[1] + 0.0*x1[2] + 522500.0*x1[3] + 0.0*x1[4])\n",
      "Cut in Iteration: 1\n",
      "Cut added for scenario 27: theta1[27] >= 904500.0 - (615000.0*x1[0] + 643500.0*x1[1] + 0.0*x1[2] + 522500.0*x1[3] + 472500.0*x1[4])\n",
      "Cut in Iteration: 1\n",
      "Cut added for scenario 28: theta1[28] >= 904500.0 - (615000.0*x1[0] + 643500.0*x1[1] + 463250.0*x1[2] + 0.0*x1[3] + 0.0*x1[4])\n",
      "Cut in Iteration: 1\n",
      "Cut added for scenario 29: theta1[29] >= 904500.0 - (615000.0*x1[0] + 643500.0*x1[1] + 463250.0*x1[2] + 0.0*x1[3] + 472500.0*x1[4])\n",
      "Cut in Iteration: 1\n",
      "Cut added for scenario 30: theta1[30] >= 904500.0 - (615000.0*x1[0] + 643500.0*x1[1] + 463250.0*x1[2] + 522500.0*x1[3] + 0.0*x1[4])\n",
      "Cut in Iteration: 1\n",
      "Cut added for scenario 31: theta1[31] >= 904500.0 - (615000.0*x1[0] + 643500.0*x1[1] + 463250.0*x1[2] + 522500.0*x1[3] + 472500.0*x1[4])\n",
      "Cut in Iteration: 2\n",
      "Cut added for scenario 0: theta1[0] >= 904500.0 - (0.0*x1[0] + 0.0*x1[1] + 0.0*x1[2] + 0.0*x1[3] + 0.0*x1[4])\n",
      "Cut in Iteration: 2\n",
      "Cut added for scenario 1: theta1[1] >= 904500.0 - (0.0*x1[0] + 0.0*x1[1] + 0.0*x1[2] + 0.0*x1[3] + 472500.0*x1[4])\n",
      "Cut in Iteration: 2\n",
      "Cut added for scenario 2: theta1[2] >= 873900.0 - (0.0*x1[0] + 0.0*x1[1] + 0.0*x1[2] + 465500.0*x1[3] + 0.0*x1[4])\n",
      "Cut in Iteration: 2\n",
      "Cut added for scenario 3: theta1[3] >= 873900.0 - (0.0*x1[0] + 0.0*x1[1] + 0.0*x1[2] + 465500.0*x1[3] + 472500.0*x1[4])\n",
      "Cut in Iteration: 2\n",
      "Cut added for scenario 4: theta1[4] >= 904500.0 - (0.0*x1[0] + 0.0*x1[1] + 463250.0*x1[2] + 0.0*x1[3] + 0.0*x1[4])\n",
      "Cut in Iteration: 2\n",
      "Cut added for scenario 5: theta1[5] >= 904500.0 - (0.0*x1[0] + 0.0*x1[1] + 463250.0*x1[2] + 0.0*x1[3] + 472500.0*x1[4])\n",
      "Cut in Iteration: 2\n",
      "Cut added for scenario 6: theta1[6] >= 873900.0 - (0.0*x1[0] + 0.0*x1[1] + 463250.0*x1[2] + 465500.0*x1[3] + 0.0*x1[4])\n",
      "Cut in Iteration: 2\n",
      "Cut added for scenario 7: theta1[7] >= 873900.0 - (0.0*x1[0] + 0.0*x1[1] + 463250.0*x1[2] + 465500.0*x1[3] + 472500.0*x1[4])\n",
      "Cut in Iteration: 2\n",
      "Cut added for scenario 8: theta1[8] >= 884300.0 - (0.0*x1[0] + 599500.0*x1[1] + 0.0*x1[2] + 0.0*x1[3] + 0.0*x1[4])\n",
      "Cut in Iteration: 2\n",
      "Cut added for scenario 9: theta1[9] >= 884300.0 - (0.0*x1[0] + 599500.0*x1[1] + 0.0*x1[2] + 0.0*x1[3] + 463500.0*x1[4])\n",
      "Cut in Iteration: 2\n",
      "Cut added for scenario 10: theta1[10] >= 180800.0 - (0.0*x1[0] + 22000.0*x1[1] + -0.0*x1[2] + -0.0*x1[3] + -0.0*x1[4])\n",
      "Cut in Iteration: 2\n",
      "Cut added for scenario 11: theta1[11] >= 180800.0 - (0.0*x1[0] + 22000.0*x1[1] + -0.0*x1[2] + -0.0*x1[3] + -0.0*x1[4])\n",
      "Cut in Iteration: 2\n",
      "Cut added for scenario 12: theta1[12] >= 884300.0 - (0.0*x1[0] + 599500.0*x1[1] + 442000.0*x1[2] + 0.0*x1[3] + 0.0*x1[4])\n",
      "Cut in Iteration: 2\n",
      "Cut added for scenario 13: theta1[13] >= 884300.0 - (0.0*x1[0] + 599500.0*x1[1] + 442000.0*x1[2] + 0.0*x1[3] + 463500.0*x1[4])\n",
      "Cut in Iteration: 2\n",
      "Cut added for scenario 14: theta1[14] >= 180800.0 - (0.0*x1[0] + 22000.0*x1[1] + -0.0*x1[2] + -0.0*x1[3] + -0.0*x1[4])\n",
      "Cut in Iteration: 2\n",
      "Cut added for scenario 15: theta1[15] >= 180800.0 - (0.0*x1[0] + 22000.0*x1[1] + -0.0*x1[2] + -0.0*x1[3] + -0.0*x1[4])\n",
      "Cut in Iteration: 2\n",
      "Cut added for scenario 16: theta1[16] >= 880300.0 - (550000.0*x1[0] + 0.0*x1[1] + 0.0*x1[2] + 0.0*x1[3] + 0.0*x1[4])\n",
      "Cut in Iteration: 2\n",
      "Cut added for scenario 17: theta1[17] >= 880300.0 - (550000.0*x1[0] + 0.0*x1[1] + 0.0*x1[2] + 0.0*x1[3] + 450000.0*x1[4])\n",
      "Cut in Iteration: 2\n",
      "Cut added for scenario 18: theta1[18] >= 169300.0 - (25000.0*x1[0] + 0.0*x1[1] + -0.0*x1[2] + -0.0*x1[3] + -0.0*x1[4])\n",
      "Cut in Iteration: 2\n",
      "Cut added for scenario 19: theta1[19] >= 169300.0 - (25000.0*x1[0] + 0.0*x1[1] + -0.0*x1[2] + -0.0*x1[3] + -0.0*x1[4])\n",
      "Cut in Iteration: 2\n",
      "Cut added for scenario 20: theta1[20] >= 880300.0 - (550000.0*x1[0] + 0.0*x1[1] + 446250.0*x1[2] + 0.0*x1[3] + 0.0*x1[4])\n",
      "Cut in Iteration: 2\n",
      "Cut added for scenario 21: theta1[21] >= 880300.0 - (550000.0*x1[0] + 0.0*x1[1] + 446250.0*x1[2] + 0.0*x1[3] + 450000.0*x1[4])\n",
      "Cut in Iteration: 2\n",
      "Cut added for scenario 22: theta1[22] >= 169300.0 - (25000.0*x1[0] + 0.0*x1[1] + -0.0*x1[2] + -0.0*x1[3] + -0.0*x1[4])\n",
      "Cut in Iteration: 2\n",
      "Cut added for scenario 23: theta1[23] >= 169300.0 - (25000.0*x1[0] + 0.0*x1[1] + -0.0*x1[2] + -0.0*x1[3] + -0.0*x1[4])\n",
      "Cut in Iteration: 2\n",
      "Cut added for scenario 24: theta1[24] >= 141000.0 - (5000.0*x1[0] + -0.0*x1[1] + -0.0*x1[2] + -0.0*x1[3] + -0.0*x1[4])\n",
      "Cut in Iteration: 2\n",
      "Cut added for scenario 25: theta1[25] >= 141000.0 - (5000.0*x1[0] + -0.0*x1[1] + -0.0*x1[2] + -0.0*x1[3] + -0.0*x1[4])\n",
      "Cut in Iteration: 2\n",
      "Cut added for scenario 26: theta1[26] >= 141000.0 - (5000.0*x1[0] + -0.0*x1[1] + -0.0*x1[2] + -0.0*x1[3] + -0.0*x1[4])\n",
      "Cut in Iteration: 2\n",
      "Cut added for scenario 27: theta1[27] >= 141000.0 - (5000.0*x1[0] + -0.0*x1[1] + -0.0*x1[2] + -0.0*x1[3] + -0.0*x1[4])\n",
      "Cut in Iteration: 2\n",
      "Cut added for scenario 28: theta1[28] >= 141000.0 - (5000.0*x1[0] + -0.0*x1[1] + -0.0*x1[2] + -0.0*x1[3] + -0.0*x1[4])\n",
      "Cut in Iteration: 2\n",
      "Cut added for scenario 29: theta1[29] >= 141000.0 - (5000.0*x1[0] + -0.0*x1[1] + -0.0*x1[2] + -0.0*x1[3] + -0.0*x1[4])\n",
      "Cut in Iteration: 2\n",
      "Cut added for scenario 30: theta1[30] >= 141000.0 - (5000.0*x1[0] + -0.0*x1[1] + -0.0*x1[2] + -0.0*x1[3] + -0.0*x1[4])\n",
      "Cut in Iteration: 2\n",
      "Cut added for scenario 31: theta1[31] >= 141000.0 - (5000.0*x1[0] + -0.0*x1[1] + -0.0*x1[2] + -0.0*x1[3] + -0.0*x1[4])\n",
      "Cut in Iteration: 3\n",
      "Cut added for scenario 0: theta1[0] >= 904500.0 - (0.0*x1[0] + 0.0*x1[1] + 0.0*x1[2] + 0.0*x1[3] + 0.0*x1[4])\n",
      "Cut in Iteration: 3\n",
      "Cut added for scenario 1: theta1[1] >= 904500.0 - (0.0*x1[0] + 0.0*x1[1] + 0.0*x1[2] + 0.0*x1[3] + 472500.0*x1[4])\n",
      "Cut in Iteration: 3\n",
      "Cut added for scenario 2: theta1[2] >= 873900.0 - (0.0*x1[0] + 0.0*x1[1] + 0.0*x1[2] + 465500.0*x1[3] + 0.0*x1[4])\n",
      "Cut in Iteration: 3\n",
      "Cut added for scenario 3: theta1[3] >= 873900.0 - (0.0*x1[0] + 0.0*x1[1] + 0.0*x1[2] + 465500.0*x1[3] + 472500.0*x1[4])\n",
      "Cut in Iteration: 3\n",
      "Cut added for scenario 4: theta1[4] >= 904500.0 - (0.0*x1[0] + 0.0*x1[1] + 463250.0*x1[2] + 0.0*x1[3] + 0.0*x1[4])\n",
      "Cut in Iteration: 3\n",
      "Cut added for scenario 5: theta1[5] >= 904500.0 - (0.0*x1[0] + 0.0*x1[1] + 463250.0*x1[2] + 0.0*x1[3] + 472500.0*x1[4])\n",
      "Cut in Iteration: 3\n",
      "Cut added for scenario 6: theta1[6] >= 873900.0 - (0.0*x1[0] + 0.0*x1[1] + 463250.0*x1[2] + 465500.0*x1[3] + 0.0*x1[4])\n",
      "Cut in Iteration: 3\n",
      "Cut added for scenario 7: theta1[7] >= 873900.0 - (0.0*x1[0] + 0.0*x1[1] + 463250.0*x1[2] + 465500.0*x1[3] + 472500.0*x1[4])\n",
      "Cut in Iteration: 3\n",
      "Cut added for scenario 8: theta1[8] >= 884300.0 - (0.0*x1[0] + 599500.0*x1[1] + 0.0*x1[2] + 0.0*x1[3] + 0.0*x1[4])\n",
      "Cut in Iteration: 3\n",
      "Cut added for scenario 9: theta1[9] >= 884300.0 - (0.0*x1[0] + 599500.0*x1[1] + 0.0*x1[2] + 0.0*x1[3] + 463500.0*x1[4])\n",
      "Cut in Iteration: 3\n",
      "Cut added for scenario 10: theta1[10] >= 180800.0 - (0.0*x1[0] + 22000.0*x1[1] + -0.0*x1[2] + -0.0*x1[3] + -0.0*x1[4])\n",
      "Cut in Iteration: 3\n",
      "Cut added for scenario 11: theta1[11] >= 180800.0 - (0.0*x1[0] + 22000.0*x1[1] + -0.0*x1[2] + -0.0*x1[3] + -0.0*x1[4])\n",
      "Cut in Iteration: 3\n",
      "Cut added for scenario 12: theta1[12] >= 884300.0 - (0.0*x1[0] + 599500.0*x1[1] + 442000.0*x1[2] + 0.0*x1[3] + 0.0*x1[4])\n",
      "Cut in Iteration: 3\n",
      "Cut added for scenario 13: theta1[13] >= 884300.0 - (0.0*x1[0] + 599500.0*x1[1] + 442000.0*x1[2] + 0.0*x1[3] + 463500.0*x1[4])\n",
      "Cut in Iteration: 3\n",
      "Cut added for scenario 14: theta1[14] >= 180800.0 - (0.0*x1[0] + 22000.0*x1[1] + -0.0*x1[2] + -0.0*x1[3] + -0.0*x1[4])\n",
      "Cut in Iteration: 3\n",
      "Cut added for scenario 15: theta1[15] >= 180800.0 - (0.0*x1[0] + 22000.0*x1[1] + -0.0*x1[2] + -0.0*x1[3] + -0.0*x1[4])\n",
      "Cut in Iteration: 3\n",
      "Cut added for scenario 16: theta1[16] >= 880300.0 - (550000.0*x1[0] + 0.0*x1[1] + 0.0*x1[2] + 0.0*x1[3] + 0.0*x1[4])\n",
      "Cut in Iteration: 3\n",
      "Cut added for scenario 17: theta1[17] >= 880300.0 - (550000.0*x1[0] + 0.0*x1[1] + 0.0*x1[2] + 0.0*x1[3] + 450000.0*x1[4])\n",
      "Cut in Iteration: 3\n",
      "Cut added for scenario 18: theta1[18] >= 169300.0 - (25000.0*x1[0] + 0.0*x1[1] + -0.0*x1[2] + -0.0*x1[3] + -0.0*x1[4])\n",
      "Cut in Iteration: 3\n",
      "Cut added for scenario 19: theta1[19] >= 169300.0 - (25000.0*x1[0] + 0.0*x1[1] + -0.0*x1[2] + -0.0*x1[3] + -0.0*x1[4])\n",
      "Cut in Iteration: 3\n",
      "Cut added for scenario 20: theta1[20] >= 880300.0 - (550000.0*x1[0] + 0.0*x1[1] + 446250.0*x1[2] + 0.0*x1[3] + 0.0*x1[4])\n",
      "Cut in Iteration: 3\n",
      "Cut added for scenario 21: theta1[21] >= 880300.0 - (550000.0*x1[0] + 0.0*x1[1] + 446250.0*x1[2] + 0.0*x1[3] + 450000.0*x1[4])\n",
      "Cut in Iteration: 3\n",
      "Cut added for scenario 22: theta1[22] >= 169300.0 - (25000.0*x1[0] + 0.0*x1[1] + -0.0*x1[2] + -0.0*x1[3] + -0.0*x1[4])\n",
      "Cut in Iteration: 3\n",
      "Cut added for scenario 23: theta1[23] >= 169300.0 - (25000.0*x1[0] + 0.0*x1[1] + -0.0*x1[2] + -0.0*x1[3] + -0.0*x1[4])\n",
      "Cut in Iteration: 3\n",
      "Cut added for scenario 24: theta1[24] >= 141000.0 - (5000.0*x1[0] + -0.0*x1[1] + -0.0*x1[2] + -0.0*x1[3] + -0.0*x1[4])\n",
      "Cut in Iteration: 3\n",
      "Cut added for scenario 25: theta1[25] >= 141000.0 - (5000.0*x1[0] + -0.0*x1[1] + -0.0*x1[2] + -0.0*x1[3] + -0.0*x1[4])\n",
      "Cut in Iteration: 3\n",
      "Cut added for scenario 26: theta1[26] >= 141000.0 - (5000.0*x1[0] + -0.0*x1[1] + -0.0*x1[2] + -0.0*x1[3] + -0.0*x1[4])\n",
      "Cut in Iteration: 3\n",
      "Cut added for scenario 27: theta1[27] >= 141000.0 - (5000.0*x1[0] + -0.0*x1[1] + -0.0*x1[2] + -0.0*x1[3] + -0.0*x1[4])\n",
      "Cut in Iteration: 3\n",
      "Cut added for scenario 28: theta1[28] >= 141000.0 - (5000.0*x1[0] + -0.0*x1[1] + -0.0*x1[2] + -0.0*x1[3] + -0.0*x1[4])\n",
      "Cut in Iteration: 3\n",
      "Cut added for scenario 29: theta1[29] >= 141000.0 - (5000.0*x1[0] + -0.0*x1[1] + -0.0*x1[2] + -0.0*x1[3] + -0.0*x1[4])\n",
      "Cut in Iteration: 3\n",
      "Cut added for scenario 30: theta1[30] >= 141000.0 - (5000.0*x1[0] + -0.0*x1[1] + -0.0*x1[2] + -0.0*x1[3] + -0.0*x1[4])\n",
      "Cut in Iteration: 3\n",
      "Cut added for scenario 31: theta1[31] >= 141000.0 - (5000.0*x1[0] + -0.0*x1[1] + -0.0*x1[2] + -0.0*x1[3] + -0.0*x1[4])\n"
     ]
    }
   ],
   "source": [
    "A = 0\n",
    "LB1 = 0\n",
    "UB1 = 100000000000000000000\n",
    "while (UB1 - LB1) >= 0.0011:\n",
    "    dualMult = {}\n",
    "    total_second_stage_cost = 0\n",
    "    D = {}\n",
    "    m2.Params.LogToConsole = 0 \n",
    "    m2.optimize()\n",
    "    xSol = {name : x1[name].x for name in x}\n",
    "    #print(xSoln)\n",
    "    theta_va = qsum(probOfScenario[s] * theta1[s].X for s in scenarios).getValue()\n",
    "    LB1 = theta_va\n",
    "    A += 1\n",
    "    for s in scenarios:\n",
    "        second, dualMult[s] = SecondStageFunction(xSol,xi[s])\n",
    "        total_second_stage_cost += probOfScenario[s]*second\n",
    "        i,j, _ = getInterceptAndSlopesForScenario(dualMult[s],s)\n",
    "        print(f'Cut in Iteration: {A}')\n",
    "        cut = Cut(i,j,s)\n",
    "        \n",
    "    UB1 = total_second_stage_cost\n",
    "    #print(UB1)\n",
    "    #i,s = getInterceptsAndSlopesLists(scenarios, D)\n",
    "    #cut = addCut(i,s) \n",
    "\n",
    "    #print(LB1)\n",
    "    \n",
    "\n"
   ]
  },
  {
   "cell_type": "code",
   "execution_count": 951,
   "id": "8639a355",
   "metadata": {},
   "outputs": [
    {
     "name": "stdout",
     "output_type": "stream",
     "text": [
      "184827.10000000006\n"
     ]
    }
   ],
   "source": [
    "print(m2.Objval)"
   ]
  },
  {
   "cell_type": "code",
   "execution_count": 952,
   "id": "df6df40c",
   "metadata": {},
   "outputs": [
    {
     "name": "stdout",
     "output_type": "stream",
     "text": [
      "3\n"
     ]
    }
   ],
   "source": [
    "print(A)"
   ]
  },
  {
   "cell_type": "code",
   "execution_count": null,
   "id": "fbb49f3e",
   "metadata": {},
   "outputs": [],
   "source": []
  }
 ],
 "metadata": {
  "kernelspec": {
   "display_name": "Python 3 (ipykernel)",
   "language": "python",
   "name": "python3"
  },
  "language_info": {
   "codemirror_mode": {
    "name": "ipython",
    "version": 3
   },
   "file_extension": ".py",
   "mimetype": "text/x-python",
   "name": "python",
   "nbconvert_exporter": "python",
   "pygments_lexer": "ipython3",
   "version": "3.9.18"
  }
 },
 "nbformat": 4,
 "nbformat_minor": 5
}
